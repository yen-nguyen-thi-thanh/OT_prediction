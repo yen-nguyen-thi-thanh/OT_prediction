{
 "cells": [
  {
   "cell_type": "markdown",
   "id": "5537879d",
   "metadata": {},
   "source": [
    "# Making sparse predictions, and forecasting the requests of the government declaration of natural disaster for a drought event in France\n",
    "In this notebook, we will show how to predict the cost of drought event.\n",
    "The methodology is presented in the paper [Making sparse predictions, and forecasting the requests of the government declaration of natural disaster for a drought event in France]() by \n",
    "T. T. Y. Nguyen,G. Ecoto and A. Chambaz. "
   ]
  },
  {
   "cell_type": "markdown",
   "id": "ff67e81f",
   "metadata": {},
   "source": [
    "## Imports and installs"
   ]
  },
  {
   "cell_type": "code",
   "execution_count": 2,
   "id": "4046332b",
   "metadata": {},
   "outputs": [
    {
     "name": "stdout",
     "output_type": "stream",
     "text": [
      "[pyKeOps]: Warning, no cuda detected. Switching to cpu only.\n"
     ]
    }
   ],
   "source": [
    "import numpy as np\n",
    "import torch\n",
    "import pandas as pd\n",
    "from predicters import OTpreds\n",
    "from utils import *\n",
    "import logging\n",
    "from sklearn.metrics import f1_score\n",
    "from sklearn.metrics import accuracy_score\n",
    "from sklearn.metrics import mean_absolute_error as MAE\n",
    "from sklearn.metrics import mean_squared_error as MSE\n",
    "\n",
    "\n",
    "logger = logging.getLogger()\n",
    "logger.setLevel(logging.INFO)\n",
    "logging.debug(\"test\")\n",
    "torch.set_default_tensor_type('torch.DoubleTensor')"
   ]
  },
  {
   "cell_type": "markdown",
   "id": "b0cff115",
   "metadata": {},
   "source": [
    "# Example 1: synthesic data\n",
    "\n",
    "We now present an illustration based on simulated data."
   ]
  },
  {
   "cell_type": "markdown",
   "id": "d80962f7",
   "metadata": {},
   "source": [
    "## Data loading\n",
    "The dataset loader utilities assume there is a \"simulations/\" folder in the current directory.\n"
   ]
  },
  {
   "cell_type": "code",
   "execution_count": 8,
   "id": "ca97a014",
   "metadata": {},
   "outputs": [],
   "source": [
    "file = './simulations/data_simulate.npz'\n",
    "data = np.load(file, allow_pickle = True)\n",
    "\n",
    "train = data['train']\n",
    "test = data['test']\n",
    "theta_SL_1 = data['theta_SL1']\n",
    "theta_SL_2 = data['theta_SL2']\n",
    "rmse_SL1 = data['rmse_SL1']\n",
    "rmse_SL2 = data['rmse_SL2']\n",
    "\n",
    "rmse_sl1 = np.mean(rmse_SL1)\n",
    "rmse_sl2 = np.mean(rmse_SL2)\n",
    "\n",
    "\n",
    "nb = 0\n",
    "theta_sl1 = theta_SL_1[nb].squeeze()\n",
    "theta_sl2 = theta_SL_2[nb].squeeze()\n",
    "z = train[nb]\n",
    "y = train[nb][:,2]"
   ]
  },
  {
   "cell_type": "markdown",
   "id": "df8d9a4f",
   "metadata": {},
   "source": [
    "### Load the data and whiten it"
   ]
  },
  {
   "cell_type": "code",
   "execution_count": 9,
   "id": "7a8f82bd",
   "metadata": {},
   "outputs": [],
   "source": [
    "zp_true = test[nb]\n",
    "theta_true = zp_true[:, -1]\n",
    "zp = zp_true.copy()\n",
    "zp[:,-1] = np.nan\n",
    "tau_true = np.mean(theta_true)\n",
    "zp = zp_true.copy()\n",
    "zp[:,-1] = np.nan\n",
    "\n",
    "Z = torch.from_numpy(z)\n",
    "Zp = torch.from_numpy(zp)\n",
    "Zp_true = torch.from_numpy(zp_true)\n",
    "Theta_true = torch.from_numpy(theta_true)\n",
    "\n"
   ]
  },
  {
   "cell_type": "markdown",
   "id": "135f8ca4",
   "metadata": {},
   "source": [
    "### Hyperparameters"
   ]
  },
  {
   "cell_type": "code",
   "execution_count": 10,
   "id": "0353dfce",
   "metadata": {},
   "outputs": [],
   "source": [
    "alpha = 500\n",
    "init = theta_sl2\n",
    "tau = np.mean(init)\n",
    "cost = dissim2(alpha).cost2\n",
    "\n",
    "batchsize = 128\n",
    "eps = 1e-2\n",
    "lr = 1e-3\n",
    "mu = 1e-4\n",
    "report_interval = 200\n",
    "niter = 2000\n"
   ]
  },
  {
   "cell_type": "markdown",
   "id": "bbe3f868",
   "metadata": {},
   "source": [
    "### Optimal transport sparse prediction"
   ]
  },
  {
   "cell_type": "code",
   "execution_count": 11,
   "id": "43ec8c61",
   "metadata": {},
   "outputs": [
    {
     "name": "stderr",
     "output_type": "stream",
     "text": [
      "INFO:root:batchsize = 128, epsilon = 0.0100\n",
      "INFO:root:Iteration, learning rate 0:\t Loss: 35.3213\t Validation MAE: 0.1368\tRMSE: 0.2274\tAUC: 0.5852\n",
      "INFO:root:Iteration, learning rate 200:\t Loss: 72.1279\t Validation MAE: 0.0922\tRMSE: 0.2059\tAUC: 0.9230\n",
      "INFO:root:Iteration, learning rate 400:\t Loss: 49.1115\t Validation MAE: 0.0830\tRMSE: 0.1983\tAUC: 0.9301\n",
      "INFO:root:Iteration, learning rate 600:\t Loss: 40.7352\t Validation MAE: 0.0804\tRMSE: 0.1932\tAUC: 0.9310\n",
      "INFO:root:Iteration, learning rate 800:\t Loss: 54.7717\t Validation MAE: 0.0793\tRMSE: 0.1881\tAUC: 0.9329\n",
      "INFO:root:Iteration, learning rate 1000:\t Loss: 47.2669\t Validation MAE: 0.0791\tRMSE: 0.1847\tAUC: 0.9332\n",
      "INFO:root:Iteration, learning rate 1200:\t Loss: 54.5402\t Validation MAE: 0.0782\tRMSE: 0.1817\tAUC: 0.9328\n",
      "INFO:root:Iteration, learning rate 1400:\t Loss: 53.6005\t Validation MAE: 0.0774\tRMSE: 0.1787\tAUC: 0.9398\n",
      "INFO:root:Iteration, learning rate 1600:\t Loss: 88.5081\t Validation MAE: 0.0771\tRMSE: 0.1773\tAUC: 0.9320\n",
      "INFO:root:Iteration, learning rate 1800:\t Loss: 32.6958\t Validation MAE: 0.0772\tRMSE: 0.1760\tAUC: 0.9311\n"
     ]
    }
   ],
   "source": [
    "sk_imputer = OTpreds(n_pairs = 1, noise = 0.01, batchsize = 128, niter = niter, eps = eps, lr = lr, \n",
    "                     mu = mu, tau = tau, cost = cost)\n",
    "\n",
    "theta_ot, maes, rmses, aucs = sk_imputer.fit_transform_update(Z, Zp, theta_true = Theta_true,\n",
    "                                                           init = None, verbose=True, \n",
    "                                                           report_interval=report_interval)\n",
    "\n"
   ]
  },
  {
   "cell_type": "code",
   "execution_count": 14,
   "id": "19039576",
   "metadata": {},
   "outputs": [
    {
     "name": "stdout",
     "output_type": "stream",
     "text": [
      "MSE:\n",
      "OT prediction: 0.0308 \t SL2 prediction: 0.0307 \t hybrid prediction: 0.0296\n",
      "AUC:\n",
      "binary OT prediction: 0.96 \t binary SL2 prediction: 0.96 \t binary hybrid prediction: 0.96\n",
      "F1-score:\n",
      "binary OT prediction: 0.60 \t binary SL2 prediction: 0.62 \t binary hybrid prediction: 0.64\n"
     ]
    }
   ],
   "source": [
    "\n",
    "theta_hybrid = np.sqrt(theta_sl2*theta_ot)\n",
    "\n",
    "\n",
    "\n",
    "mse_sl2 = MSE(theta_true, theta_sl2)\n",
    "mse_hybrid = MSE(theta_true, theta_hybrid)\n",
    "mse_ot = MSE(theta_true, theta_ot)\n",
    "\n",
    "\n",
    "print('MSE:\\nOT prediction: {:.4f}'.format(mse_ot), '\\t SL2 prediction: {:.4f}'.format(mse_sl2), \n",
    "      '\\t hybrid prediction: {:.4f}'.format(mse_hybrid))\n",
    "\n",
    "theta_ot_np = theta_ot>np.quantile(theta_ot, 1-tau_true)\n",
    "theta_sl2_np = theta_sl2> np.quantile(theta_sl2, 1-tau_true)\n",
    "theta_hybrid_np = theta_hybrid>np.quantile(theta_hybrid, 1-tau_true)\n",
    "print('AUC:\\nbinary OT prediction: {:.2f}'.format(accuracy_score(theta_true, theta_ot_np)), '\\t binary SL2 prediction: {:.2f}'.format(accuracy_score(theta_true, theta_sl2_np)), \n",
    "      '\\t binary hybrid prediction: {:.2f}'.format(accuracy_score(theta_true, theta_hybrid_np)))\n",
    "\n",
    "print('F1-score:\\nbinary OT prediction: {:.2f}'.format(f1_score(theta_true, theta_ot_np)), '\\t binary SL2 prediction: {:.2f}'.format(f1_score(theta_true, theta_sl2_np)), \n",
    "      '\\t binary hybrid prediction: {:.2f}'.format(f1_score(theta_true, theta_hybrid_np)))\n"
   ]
  },
  {
   "cell_type": "markdown",
   "id": "3a579782",
   "metadata": {},
   "source": [
    "# Example 2: Real data \n",
    "## Optimal transport-based prediction"
   ]
  },
  {
   "cell_type": "markdown",
   "id": "0f6e26fb",
   "metadata": {},
   "source": [
    "### Data loading"
   ]
  },
  {
   "cell_type": "code",
   "execution_count": null,
   "id": "19cb4d32",
   "metadata": {},
   "outputs": [],
   "source": [
    "fil_data = \"dat_new.csv\"\n",
    "D = pd.read_csv(fil_data, header=0)\n",
    "column = list(D.columns)"
   ]
  },
  {
   "cell_type": "code",
   "execution_count": null,
   "id": "10ec5dea",
   "metadata": {},
   "outputs": [],
   "source": [
    "var_id = ['INSEE_COM', 'INSEE_DEP']\n",
    "var_1 = ['Nb_sinistres_voisins', 'Nb_demandes_voisins', 'Nb_primo_demanderesses', 'Prop_sinistres_voisins', \n",
    "         'taux_demandes_voisins', 'Nb_primo_demanderesses_5_ans', 'taux_demandes_voisins_5_ans', 'Nb_sinistres_DEPT',\n",
    "         'Prop_sinistres_DEPT', 'Nb_primo_demanderesses_DEPT', 'Nb_primo_demanderesses_5_ans_DEPT', \n",
    "         'taux_demandes_DEPT', 'taux_demandes_5_ans_DEPT']\n",
    "var_2 = ['date_valeur', 'Stock_demandes', 'nb_demandes', 'nb_reconnaissance', 'Refus_5_ans', 'Refus_1_ans', \n",
    "         'Refus_2_ans', 'nb_demandes_5_ans', 'nb_recos_5_ans', 'taux_demandes', \n",
    "         'rapport_demande_temps', \"taux_demandes_5_ans\" ]\n",
    "var_3 = ['POP', 'VA', 'nb_maisons', 'SUPERFICIE', 'Z_MOYEN', 'densite_maisons', 'zone_sismique1', 'zone_sismique2', \n",
    "       'zone_sismique3', 'zone_sismique4', 'MAISONS_ALEA0', 'MAISONS_ALEA1', 'MAISONS_ALEA2', 'MAISONS_ALEA3', \n",
    "       'Age1', 'Age2', 'Age3', 'Age4', 'zone_climatique_1', 'zone_climatique_2', 'zone_climatique_3', \n",
    "       'zone_climatique_4', 'zone_climatique_5']\n",
    "var_4 =['MEAN_SWI', 'MIN_SWI', 'MEAN_SWI_T2T3', 'rang_T1', 'rang_T2', 'rang_T3', 'rang_T4', 'rang_m1', 'rang_m2',\n",
    "        'rang_m3', 'rang_m4', 'rang_m5', 'rang_m6', 'rang_m7', 'rang_m8', 'rang_m9', 'rang_m10', 'rang_m11', \n",
    "        'rang_m12', 'MEAN_SWI_T1', 'MEAN_SWI_T2', 'MEAN_SWI_T3', 'MEAN_SWI_T4', 'MEAN_SWI_T1T2T3', 'Eligibilite']\n",
    "\n",
    "var_5 = ['Exercice']\n",
    "var_pred = ['preds_Glm', 'preds_cart', 'preds_RF']\n",
    "var_label = ['Demande']\n",
    "var_keep = var_1 + var_2 + var_3 + var_4 + var_5 + var_label\n",
    "var_keep_2 = var_1 + var_2 + var_3 + var_4 + var_label\n",
    "var_norm = var_1 + var_2 + var_3 + var_4 "
   ]
  },
  {
   "cell_type": "markdown",
   "id": "478e1775",
   "metadata": {},
   "source": [
    "### Load the data and whiten it"
   ]
  },
  {
   "cell_type": "code",
   "execution_count": null,
   "id": "cba78522",
   "metadata": {},
   "outputs": [],
   "source": [
    "DA = D.loc[:,var_keep]\n",
    "\n",
    "wk = 1\n",
    "dat_z = DA[DA[\"Exercice\"] != 2021].loc[:,var_keep_2]\n",
    "dat_21 = DA[DA[\"Exercice\"] == 2021]\n",
    "weeks = list(np.sort(dat_21['date_valeur'].unique()))\n",
    "dat_zp = dat_21[dat_21['date_valeur']== weeks[wk]].loc[:,var_keep_2]\n",
    "z = dat_z.values\n",
    "zp_true = dat_zp.values\n",
    "theta_true = zp_true[:, -1]\n",
    "tau_true = sum(theta_true)/len(theta_true)\n",
    "zp = zp_true.copy()\n",
    "\n",
    "zp[:,-1] = np.nan\n",
    "Z = torch.from_numpy(z)\n",
    "Zp = torch.from_numpy(zp)\n",
    "Zp_true = torch.from_numpy(zp_true)\n",
    "Theta_true = torch.from_numpy(theta_true)\n",
    "\n",
    "\n",
    "D_21 = D[D['Exercice'] ==2021]\n",
    "D_21_w0 = D_21[D_21['date_valeur'] == weeks[wk]]\n",
    "theta_glm = D_21_w0['preds_Glm'].values\n",
    "\n"
   ]
  },
  {
   "cell_type": "markdown",
   "id": "a3d12c9c",
   "metadata": {},
   "source": [
    "### Hyperparameters"
   ]
  },
  {
   "cell_type": "code",
   "execution_count": null,
   "id": "97250ca7",
   "metadata": {},
   "outputs": [],
   "source": [
    "pi = [ 5.65, 42.95,  5.53, 18.88]\n",
    "nbw = [len(var_1),  len(var_2), len(var_3), len(var_4)]\n",
    "w = []\n",
    "alpha = 0.46\n",
    "for i in range(len(pi)):\n",
    "    w += nbw[i]*[pi[i]*1/nbw[i]]\n",
    "    \n",
    "cost = dissim(torch.tensor(w), alpha).costs\n",
    "tau = np.mean(theta_glm)\n",
    "\n",
    "eps =1e-2\n",
    "lr= 1e-3\n",
    "mu = 1e-4\n"
   ]
  },
  {
   "cell_type": "markdown",
   "id": "62fc88da",
   "metadata": {},
   "source": [
    "### Optimal transport sparse prediction"
   ]
  },
  {
   "cell_type": "code",
   "execution_count": null,
   "id": "c7570042",
   "metadata": {},
   "outputs": [],
   "source": [
    "sk_imputer = OTpreds(n_pairs = 1, noise = 0.01, batchsize = 128, niter = 30000, eps = eps, lr= lr, \n",
    "                    mu = mu, tau = tau, cost = cost )\n",
    "theta, maes, rmses, aucs = sk_imputer.fit_transform_update(Z, Zp, theta_true = Theta_true,                                                           \n",
    "                                                           init = None, verbose=True, report_interval=2000)\n"
   ]
  },
  {
   "cell_type": "code",
   "execution_count": null,
   "id": "e7bfc26e",
   "metadata": {},
   "outputs": [],
   "source": []
  },
  {
   "cell_type": "code",
   "execution_count": null,
   "id": "8e5efccc",
   "metadata": {},
   "outputs": [],
   "source": [
    "\n",
    "theta_hybrid = np.sqrt(theta_sl2*theta_ot)\n",
    "\n",
    "\n",
    "\n",
    "mse_sl2 = MSE(theta_true, theta_sl2)\n",
    "mse_hybrid = MSE(theta_true, theta_hybrid)\n",
    "mse_ot = MSE(theta_true, theta_ot)\n",
    "\n",
    "\n",
    "print('MSE:\\nOT prediction: {:.4f}'.format(mse_ot), '\\t SL2 prediction: {:.4f}'.format(mse_sl2), \n",
    "      '\\t hybrid prediction: {:.4f}'.format(mse_hybrid))\n",
    "\n",
    "theta_ot_np = theta_ot>np.quantile(theta_ot, 1-tau_true)\n",
    "theta_sl2_np = theta_sl2> np.quantile(theta_sl2, 1-tau_true)\n",
    "theta_hybrid_np = theta_hybrid>np.quantile(theta_hybrid, 1-tau_true)\n",
    "print('AUC:\\nbinary OT prediction: {:.2f}'.format(accuracy_score(theta_true, theta_ot_np)), '\\t binary SL2 prediction: {:.2f}'.format(accuracy_score(theta_true, theta_sl2_np)), \n",
    "      '\\t binary hybrid prediction: {:.2f}'.format(accuracy_score(theta_true, theta_hybrid_np)))\n",
    "\n",
    "print('F1-score:\\nbinary OT prediction: {:.2f}'.format(f1_score(theta_true, theta_ot_np)), '\\t binary SL2 prediction: {:.2f}'.format(f1_score(theta_true, theta_sl2_np)), \n",
    "      '\\t binary hybrid prediction: {:.2f}'.format(f1_score(theta_true, theta_hybrid_np)))\n"
   ]
  }
 ],
 "metadata": {
  "kernelspec": {
   "display_name": "Python 3 (ipykernel)",
   "language": "python",
   "name": "python3"
  },
  "language_info": {
   "codemirror_mode": {
    "name": "ipython",
    "version": 3
   },
   "file_extension": ".py",
   "mimetype": "text/x-python",
   "name": "python",
   "nbconvert_exporter": "python",
   "pygments_lexer": "ipython3",
   "version": "3.7.10"
  }
 },
 "nbformat": 4,
 "nbformat_minor": 5
}
