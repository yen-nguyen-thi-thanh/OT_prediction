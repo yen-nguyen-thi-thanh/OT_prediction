{
 "cells": [
  {
   "cell_type": "markdown",
   "id": "52c8cc1e",
   "metadata": {},
   "source": [
    "# Making sparse predictions, and forecasting the requests of the government declaration of natural disaster for a drought event in France\n",
    "In this notebook, we will show how to predict the cost of drought event.\n",
    "The methodology is presented in the paper [Making sparse predictions, and forecasting the requests of the government declaration of natural disaster for a drought event in France]() by \n",
    "T. T. Y. Nguyen,G. Ecoto and A. Chambaz. "
   ]
  },
  {
   "cell_type": "markdown",
   "id": "35312e87",
   "metadata": {},
   "source": [
    "## Imports and installs"
   ]
  },
  {
   "cell_type": "code",
   "execution_count": 1,
   "id": "4046332b",
   "metadata": {},
   "outputs": [
    {
     "name": "stdout",
     "output_type": "stream",
     "text": [
      "[pyKeOps]: Warning, no cuda detected. Switching to cpu only.\n"
     ]
    }
   ],
   "source": [
    "import numpy as np\n",
    "import torch\n",
    "import pandas as pd\n",
    "from predicters import OTpreds\n",
    "from utils import *\n",
    "import logging\n",
    "from sklearn.metrics import f1_score\n",
    "from sklearn.metrics import accuracy_score\n",
    "from sklearn.metrics import mean_absolute_error as MAE\n",
    "from sklearn.metrics import mean_squared_error as MSE\n",
    "\n",
    "\n",
    "logger = logging.getLogger()\n",
    "logger.setLevel(logging.INFO)\n",
    "logging.debug(\"test\")\n",
    "torch.set_default_tensor_type('torch.DoubleTensor')"
   ]
  },
  {
   "cell_type": "markdown",
   "id": "6a3ff06c",
   "metadata": {},
   "source": [
    "# Example 1: synthesic data\n",
    "\n",
    "We now present an illustration based on simulated data."
   ]
  },
  {
   "cell_type": "markdown",
   "id": "09f6c253",
   "metadata": {},
   "source": [
    "## Data loading\n",
    "The dataset loader utilities assume there is a \"simulations/\" folder in the current directory.\n"
   ]
  },
  {
   "cell_type": "code",
   "execution_count": 2,
   "id": "8e22f987",
   "metadata": {},
   "outputs": [],
   "source": [
    "file = './simulations/data_simulate.npz'\n",
    "data = np.load(file, allow_pickle = True)\n",
    "\n",
    "train = data['train']\n",
    "test = data['test']\n",
    "theta_SL_1 = data['theta_SL1']\n",
    "theta_SL_2 = data['theta_SL2']\n",
    "rmse_SL1 = data['rmse_SL1']\n",
    "rmse_SL2 = data['rmse_SL2']\n",
    "\n",
    "rmse_sl1 = np.mean(rmse_SL1)\n",
    "rmse_sl2 = np.mean(rmse_SL2)\n",
    "\n",
    "\n",
    "nb = 0\n",
    "theta_sl1 = theta_SL_1[nb].squeeze()\n",
    "theta_sl2 = theta_SL_2[nb].squeeze()\n",
    "z = train[nb]\n",
    "y = train[nb][:,2]"
   ]
  },
  {
   "cell_type": "markdown",
   "id": "938f0e31",
   "metadata": {},
   "source": [
    "### Load the data and whiten it"
   ]
  },
  {
   "cell_type": "code",
   "execution_count": 3,
   "id": "7a8f82bd",
   "metadata": {},
   "outputs": [],
   "source": [
    "zp_true = test[nb]\n",
    "theta_true = zp_true[:, -1]\n",
    "zp = zp_true.copy()\n",
    "zp[:,-1] = np.nan\n",
    "tau_true = np.mean(theta_true)\n",
    "zp = zp_true.copy()\n",
    "zp[:,-1] = np.nan\n",
    "\n",
    "Z = torch.from_numpy(z)\n",
    "Zp = torch.from_numpy(zp)\n",
    "Zp_true = torch.from_numpy(zp_true)\n",
    "Theta_true = torch.from_numpy(theta_true)\n",
    "\n"
   ]
  },
  {
   "cell_type": "markdown",
   "id": "f0a404dd",
   "metadata": {},
   "source": [
    "### Hyperparameters"
   ]
  },
  {
   "cell_type": "code",
   "execution_count": 4,
   "id": "44b0993a",
   "metadata": {},
   "outputs": [],
   "source": [
    "alpha = 500\n",
    "init = theta_sl2\n",
    "tau = np.mean(init)\n",
    "cost = dissim2(alpha).cost2\n",
    "\n",
    "batchsize = 128\n",
    "eps = 1e-2\n",
    "lr = 1e-3\n",
    "mu = 1e-4\n",
    "report_interval = 2\n",
    "niter = 30\n"
   ]
  },
  {
   "cell_type": "markdown",
   "id": "26d973fc",
   "metadata": {},
   "source": [
    "### Optimal transport sparse prediction"
   ]
  },
  {
   "cell_type": "code",
   "execution_count": 5,
   "id": "83be6aeb",
   "metadata": {},
   "outputs": [
    {
     "name": "stderr",
     "output_type": "stream",
     "text": [
      "INFO:root:batchsize = 128, epsilon = 0.0100\n",
      "INFO:root:Iteration, learning rate 0:\t Loss: 40.8341\t Validation MAE: 0.1368\tRMSE: 0.2275\tAUC: 0.5588\n",
      "INFO:root:Iteration, learning rate 2:\t Loss: 80.1990\t Validation MAE: 0.1348\tRMSE: 0.2268\tAUC: 0.6171\n",
      "INFO:root:Iteration, learning rate 4:\t Loss: 65.9078\t Validation MAE: 0.1331\tRMSE: 0.2259\tAUC: 0.6849\n",
      "INFO:root:Iteration, learning rate 6:\t Loss: 55.0829\t Validation MAE: 0.1317\tRMSE: 0.2251\tAUC: 0.7459\n",
      "INFO:root:Iteration, learning rate 8:\t Loss: 32.5202\t Validation MAE: 0.1303\tRMSE: 0.2246\tAUC: 0.7600\n",
      "INFO:root:Iteration, learning rate 10:\t Loss: 71.2195\t Validation MAE: 0.1289\tRMSE: 0.2240\tAUC: 0.7928\n",
      "INFO:root:Iteration, learning rate 12:\t Loss: 45.2270\t Validation MAE: 0.1278\tRMSE: 0.2235\tAUC: 0.7954\n",
      "INFO:root:Iteration, learning rate 14:\t Loss: 39.2918\t Validation MAE: 0.1268\tRMSE: 0.2232\tAUC: 0.7894\n",
      "INFO:root:Iteration, learning rate 16:\t Loss: 91.8793\t Validation MAE: 0.1258\tRMSE: 0.2227\tAUC: 0.7898\n",
      "INFO:root:Iteration, learning rate 18:\t Loss: 71.6378\t Validation MAE: 0.1248\tRMSE: 0.2222\tAUC: 0.8031\n",
      "INFO:root:Iteration, learning rate 20:\t Loss: 21.1177\t Validation MAE: 0.1240\tRMSE: 0.2219\tAUC: 0.7965\n",
      "INFO:root:Iteration, learning rate 22:\t Loss: 32.4168\t Validation MAE: 0.1230\tRMSE: 0.2215\tAUC: 0.8051\n",
      "INFO:root:Iteration, learning rate 24:\t Loss: 40.6774\t Validation MAE: 0.1222\tRMSE: 0.2213\tAUC: 0.8076\n",
      "INFO:root:Iteration, learning rate 26:\t Loss: 109.6664\t Validation MAE: 0.1214\tRMSE: 0.2210\tAUC: 0.8120\n",
      "INFO:root:Iteration, learning rate 28:\t Loss: 67.0179\t Validation MAE: 0.1207\tRMSE: 0.2206\tAUC: 0.8195\n"
     ]
    }
   ],
   "source": [
    "sk_imputer = OTpreds(n_pairs = 1, noise = 0.01, batchsize = 128, niter = niter, eps = eps, lr = lr, \n",
    "                     mu = mu, tau = tau, cost = cost)\n",
    "\n",
    "theta_ot, maes, rmses, aucs = sk_imputer.fit_transform_update(Z, Zp, theta_true = Theta_true,\n",
    "                                                           init = None, verbose=True, \n",
    "                                                           report_interval=report_interval)\n",
    "\n"
   ]
  },
  {
   "cell_type": "code",
   "execution_count": 14,
   "id": "19039576",
   "metadata": {},
   "outputs": [
    {
     "name": "stdout",
     "output_type": "stream",
     "text": [
      "0.944 0.96\n",
      "0.12029944580581978 0.2203472433954151 0.8240720447889065\n",
      "0.19364991120043143 0.17512161251811864 0.2203472433954151\n",
      "0.4716981132075472 0.6226415094339622\n",
      "F1-score:\n",
      "binary OT prediction: 0.4716981132075472 \t binary SL2 prediction: 0.6226415094339622 \t binary hybrid prediction: 0.6037735849056604\n"
     ]
    }
   ],
   "source": [
    "\n",
    "theta_hybrid = np.sqrt(theta_sl2*theta_ot)\n",
    "theta_ot_np = theta_ot>np.quantile(theta_ot, 1-tau_true)\n",
    "theta_sl2_np = theta_sl2> np.quantile(theta_sl2, 1-tau_true)\n",
    "\n",
    "rmse_glm = MSE(theta_true, theta_sl2)**(1/2)\n",
    "rmse_ot_glm = MSE(theta_true, theta_hybrid)**(1/2)\n",
    "rmse_ot = MSE(theta_true, theta_ot)**(1/2)\n",
    "\n",
    "print(accuracy_score(theta_true, theta_ot_np), accuracy_score(theta_true, theta_sl2_np))\n",
    "print(maes[-1], rmses[-1], aucs[-1])\n",
    "\n",
    "\n",
    "print(rmse_ot_glm, rmse_glm, rmse_ot)\n",
    "theta_hybrid_np = theta_hybrid>np.quantile(theta_hybrid, 1-tau_true)\n",
    "print(f1_score(theta_true, theta_ot_np), f1_score(theta_true, theta_sl2_np), )\n",
    "print('F1-score:\\nbinary OT prediction:', f1_score(theta_true, theta_ot_np), '\\t binary SL2 prediction:', f1_score(theta_true, theta_sl2_np), \n",
    "      '\\t binary hybrid prediction:', f1_score(theta_true, theta_hybrid_np))\n"
   ]
  },
  {
   "cell_type": "markdown",
   "id": "3a579782",
   "metadata": {},
   "source": [
    "# Part II: Real data "
   ]
  },
  {
   "cell_type": "code",
   "execution_count": null,
   "id": "3b08f274",
   "metadata": {},
   "outputs": [],
   "source": []
  }
 ],
 "metadata": {
  "kernelspec": {
   "display_name": "Python 3 (ipykernel)",
   "language": "python",
   "name": "python3"
  },
  "language_info": {
   "codemirror_mode": {
    "name": "ipython",
    "version": 3
   },
   "file_extension": ".py",
   "mimetype": "text/x-python",
   "name": "python",
   "nbconvert_exporter": "python",
   "pygments_lexer": "ipython3",
   "version": "3.7.10"
  }
 },
 "nbformat": 4,
 "nbformat_minor": 5
}
